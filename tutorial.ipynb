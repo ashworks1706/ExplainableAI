{
 "cells": [
  {
   "cell_type": "markdown",
   "id": "40295f9a",
   "metadata": {},
   "source": [
    "## Let's build a multimodal from scratch!\n",
    "This isn't about the hype, this is truly for lovers of LLMs and the actual math behind it. If you're one of them like me, you're more than welcome to join my [discord server](https://discord.gg/PRs84AnxtT)!"
   ]
  },
  {
   "cell_type": "markdown",
   "id": "1cc87bc7",
   "metadata": {},
   "source": [
    "### But what is a LLM anyway?\n",
    "\n",
    "A Large Language Model (LLM) is a type of artificial intelligence model designed to understand, generate, and manipulate human language. These models are trained on vast amounts of text data and can perform a wide variety of language tasks such as translation, summarization, question answering, and text generation.\n",
    "\n",
    "For a more in-depth understanding, check out this explanatory video:\n",
    "\n",
    "[[ 1 hr Talk ] Intro to Large Language Models by Andrej Karpathy](https://www.youtube.com/embed/zjkBMFhNj_g)\n",
    "\n",
    "<iframe width=\"560\" height=\"315\" src=\"https://www.youtube.com/embed/zjkBMFhNj_g\" title=\"YouTube video player\" frameborder=\"0\" allow=\"accelerometer; autoplay; clipboard-write; encrypted-media; gyroscope; picture-in-picture\" allowfullscreen></iframe>\n",
    "\n"
   ]
  },
  {
   "cell_type": "markdown",
   "id": "e85642c8",
   "metadata": {},
   "source": [
    "#### Here's how I have divided my project structure and pipeline\n",
    "```\n",
    "├── models/              # Encoders & fusion layers\n",
    "├── data/                # Processing scripts\n",
    "├── training/            # Contrastive loss implementation\n",
    "├── explainability/      # Attention visualization tools\n",
    "├── demo/                # Gradio interface\n",
    "```"
   ]
  },
  {
   "cell_type": "code",
   "execution_count": null,
   "id": "c4e9c454",
   "metadata": {},
   "outputs": [],
   "source": []
  }
 ],
 "metadata": {
  "kernelspec": {
   "display_name": "venv",
   "language": "python",
   "name": "python3"
  },
  "language_info": {
   "name": "python",
   "version": "3.13.3"
  }
 },
 "nbformat": 4,
 "nbformat_minor": 5
}
